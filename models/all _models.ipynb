{
 "cells": [
  {
   "cell_type": "code",
   "execution_count": 1,
   "metadata": {},
   "outputs": [],
   "source": [
    "## requirements\n",
    "# xgboost==0.90\n",
    "# scikit-learn==0.21.0"
   ]
  },
  {
   "cell_type": "code",
   "execution_count": 20,
   "metadata": {},
   "outputs": [],
   "source": [
    "import pickle\n",
    "import numpy as np\n",
    "import os\n",
    "    \n",
    "import xgboost as xgb\n",
    "import pickle"
   ]
  },
  {
   "cell_type": "markdown",
   "metadata": {},
   "source": [
    "### Create pickle"
   ]
  },
  {
   "cell_type": "code",
   "execution_count": 21,
   "metadata": {},
   "outputs": [],
   "source": [
    "# original models\n",
    "models ='/home/ronaldo/github/master_thesis-master/data/output/final_models/all_models.p'\n",
    "loaded_model = pickle.load(open(models, \"rb\"))\n",
    "\n",
    "\n",
    "# create a list of lists with the same shape of loaded_model\n",
    "n = len(loaded_model)\n",
    "m = len(loaded_model[0])\n",
    "\n",
    "updated_model = [[0 for x in range(m)] for y in range(n)]\n",
    "\n",
    "##### only [:][0]\n",
    "for i in range(n):\n",
    "    updated_model[i][0]=loaded_model[i][0]\n",
    "    \n",
    "##### only [:][1]\n",
    "\n",
    "for i in range(n):\n",
    "\n",
    "    # create dict\n",
    "    updated_model[i][1]=dict.fromkeys(loaded_model[i][1].keys(), None)\n",
    "    \n",
    "    # key: pollutant\n",
    "    updated_model[i][1]['pollutant']=loaded_model[i][1]['pollutant']\n",
    "    \n",
    "    # key : statistic\n",
    "    updated_model[i][1]['statistic']=loaded_model[i][1]['statistic']\n",
    "    \n",
    "    # key : df\n",
    "    updated_model[i][1]['df']=loaded_model[i][1]['df']\n",
    "    \n",
    "    # key: model_data\n",
    "    # Obs: X was normalized using MinMaxScaler()\n",
    "    updated_model[i][1]['model_data']=dict.fromkeys(loaded_model[i][1]['model_data'].keys(), None)\n",
    "    updated_model[i][1]['model_data']['X']=loaded_model[i][1]['model_data']['X']\n",
    "    updated_model[i][1]['model_data']['y']=loaded_model[i][1]['model_data']['y']\n",
    "    updated_model[i][1]['model_data']['X_train'] = loaded_model[i][1]['model_data']['X_train']\n",
    "    updated_model[i][1]['model_data']['X_validation']= loaded_model[i][1]['model_data']['X_validation']\n",
    "    updated_model[i][1]['model_data']['y_train']= loaded_model[i][1]['model_data']['y_train']\n",
    "    updated_model[i][1]['model_data']['y_validation']= loaded_model[i][1]['model_data']['y_validation']\n",
    "    updated_model[i][1]['model_data']['scaler-data_min_']=loaded_model[i][1]['model_data']['scaler'].data_min_\n",
    "    updated_model[i][1]['model_data']['scaler-data_max_']=loaded_model[i][1]['model_data']['scaler'].data_max_\n",
    "    updated_model[i][1]['model_data']['scaler-data_range_']=loaded_model[i][1]['model_data']['scaler'].data_range_\n",
    "    updated_model[i][1]['model_data']['scaler']=str(loaded_model[i][1]['model_data']['scaler'])\n",
    "    \n",
    "   "
   ]
  },
  {
   "cell_type": "code",
   "execution_count": 22,
   "metadata": {},
   "outputs": [],
   "source": [
    "# Save pickle with data\n",
    "filehandler = open(\"data.p\",\"wb\")\n",
    "pickle.dump(updated_model,filehandler)\n",
    "filehandler.close()"
   ]
  }
 ],
 "metadata": {
  "kernelspec": {
   "display_name": "Python 3",
   "language": "python",
   "name": "python3"
  },
  "language_info": {
   "codemirror_mode": {
    "name": "ipython",
    "version": 3
   },
   "file_extension": ".py",
   "mimetype": "text/x-python",
   "name": "python",
   "nbconvert_exporter": "python",
   "pygments_lexer": "ipython3",
   "version": "3.7.9"
  }
 },
 "nbformat": 4,
 "nbformat_minor": 2
}
