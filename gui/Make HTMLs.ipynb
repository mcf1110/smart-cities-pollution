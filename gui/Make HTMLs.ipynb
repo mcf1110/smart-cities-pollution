{
 "cells": [
  {
   "cell_type": "code",
   "execution_count": 1,
   "metadata": {},
   "outputs": [],
   "source": [
    "import pandas as pd\n",
    "import os\n",
    "import numpy as np\n",
    "import folium\n",
    "import h3\n",
    "import matplotlib.pyplot as plt\n",
    "from matplotlib.colors import rgb2hex\n",
    "\n",
    "p = os.path.join"
   ]
  },
  {
   "cell_type": "code",
   "execution_count": 2,
   "metadata": {},
   "outputs": [],
   "source": [
    "cmap = plt.get_cmap('Greys')"
   ]
  },
  {
   "cell_type": "code",
   "execution_count": 3,
   "metadata": {},
   "outputs": [],
   "source": [
    "def loadDataFrame(city):\n",
    "    no_spaces = city.replace(' ', '').lower()\n",
    "    return pd.read_csv(p('..', 'data', city, f'{no_spaces}2019.csv'))"
   ]
  },
  {
   "cell_type": "code",
   "execution_count": 4,
   "metadata": {},
   "outputs": [],
   "source": [
    "cities = ['Lima', 'Montevideo', 'Quito','Sao Paulo', 'Xalapa']"
   ]
  },
  {
   "cell_type": "code",
   "execution_count": 5,
   "metadata": {},
   "outputs": [],
   "source": [
    "for c in cities:\n",
    "    df = loadDataFrame(c)\n",
    "    ring = {r for h in df.h3id for r in h3.k_ring(h, 3)}\n",
    "    latlons = [h3.h3_to_geo(r) for r in ring]\n",
    "    lat, lon = np.array(latlons).mean(axis=0)\n",
    "    m = folium.Map(location=[lat, lon])\n",
    "    m.fit_bounds(latlons)\n",
    "\n",
    "    for r in ring:\n",
    "        level = df[df.h3id == r].NO2\n",
    "        if level.any():\n",
    "            level = level.iloc[0]\n",
    "        else:\n",
    "            level = np.random.uniform(0, 37)\n",
    "        folium.Polygon(\n",
    "            h3.h3_to_geo_boundary(r),\n",
    "            tooltip=f'{np.round(level, 1)} ppb',\n",
    "            fill_color= rgb2hex(cmap(level/df.NO2.max())), \n",
    "            color='black',\n",
    "            fill_opacity= 0.6\n",
    "        ).add_to(m)\n",
    "    m.save(f'maps/{c}.html')"
   ]
  }
 ],
 "metadata": {
  "kernelspec": {
   "display_name": "Python 3",
   "language": "python",
   "name": "python3"
  },
  "language_info": {
   "codemirror_mode": {
    "name": "ipython",
    "version": 3
   },
   "file_extension": ".py",
   "mimetype": "text/x-python",
   "name": "python",
   "nbconvert_exporter": "python",
   "pygments_lexer": "ipython3",
   "version": "3.8.5"
  }
 },
 "nbformat": 4,
 "nbformat_minor": 4
}
