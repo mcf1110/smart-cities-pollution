{
 "cells": [
  {
   "cell_type": "code",
   "execution_count": 3,
   "metadata": {},
   "outputs": [],
   "source": [
    "import pandas as pd\n",
    "import os\n",
    "import numpy as np\n",
    "import folium\n",
    "import h3\n",
    "import matplotlib.pyplot as plt\n",
    "from matplotlib.colors import rgb2hex\n",
    "\n",
    "p = os.path.join"
   ]
  },
  {
   "cell_type": "code",
   "execution_count": 4,
   "metadata": {},
   "outputs": [],
   "source": [
    "cmap = plt.get_cmap('Greys')"
   ]
  },
  {
   "cell_type": "code",
   "execution_count": 6,
   "metadata": {},
   "outputs": [],
   "source": [
    "df = pd.read_csv(p('..', 'prediction', 'final_prediction.csv'), index_col=0)"
   ]
  },
  {
   "cell_type": "code",
   "execution_count": 8,
   "metadata": {},
   "outputs": [],
   "source": [
    "cities = ['Lima', 'Montevideo', 'Quito','Sao Paulo']"
   ]
  },
  {
   "cell_type": "code",
   "execution_count": 11,
   "metadata": {},
   "outputs": [
    {
     "data": {
      "text/plain": [
       "898e62d58c3ffff     True\n",
       "898e62c0617ffff     True\n",
       "898e62d523bffff     True\n",
       "898e62d5353ffff     True\n",
       "898e62d0ebbffff     True\n",
       "                   ...  \n",
       "89a8100e837ffff    False\n",
       "89a8100c307ffff    False\n",
       "89a8100e333ffff    False\n",
       "89a8100e56bffff    False\n",
       "89a8100c593ffff    False\n",
       "Name: city, Length: 996, dtype: bool"
      ]
     },
     "execution_count": 11,
     "metadata": {},
     "output_type": "execute_result"
    }
   ],
   "source": [
    "df.city == 'Lima'"
   ]
  },
  {
   "cell_type": "code",
   "execution_count": 19,
   "metadata": {},
   "outputs": [],
   "source": [
    "for c in cities:\n",
    "    city_df = df[df.city == c]\n",
    "    ring = {r for h in city_df.index for r in h3.k_ring(h, 3)}\n",
    "    latlons = [h3.h3_to_geo(r) for r in ring]\n",
    "    lat, lon = np.array(latlons).mean(axis=0)\n",
    "    m = folium.Map(location=[lat, lon])\n",
    "    m.fit_bounds(latlons)\n",
    "\n",
    "    for r in ring:\n",
    "        try:\n",
    "            level = city_df.loc[r]['NO2_adjusted']\n",
    "        except KeyError:\n",
    "            continue\n",
    "        folium.Polygon(\n",
    "            h3.h3_to_geo_boundary(r),\n",
    "            tooltip=f'{np.round(level, 1)} ppb',\n",
    "            fill_color= rgb2hex(cmap(level/city_df['NO2_adjusted'].max())), \n",
    "            color='black',\n",
    "            fill_opacity= 0.6\n",
    "        ).add_to(m)\n",
    "    m.save(f'maps/{c}.html')"
   ]
  }
 ],
 "metadata": {
  "kernelspec": {
   "display_name": "Python 3",
   "language": "python",
   "name": "python3"
  },
  "language_info": {
   "codemirror_mode": {
    "name": "ipython",
    "version": 3
   },
   "file_extension": ".py",
   "mimetype": "text/x-python",
   "name": "python",
   "nbconvert_exporter": "python",
   "pygments_lexer": "ipython3",
   "version": "3.8.5"
  }
 },
 "nbformat": 4,
 "nbformat_minor": 4
}
