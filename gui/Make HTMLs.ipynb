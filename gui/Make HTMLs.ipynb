{
 "cells": [
  {
   "cell_type": "code",
   "execution_count": 13,
   "metadata": {},
   "outputs": [],
   "source": [
    "import pandas as pd\n",
    "import os\n",
    "import numpy as np\n",
    "import folium\n",
    "import h3\n",
    "import matplotlib.pyplot as plt\n",
    "from matplotlib.colors import rgb2hex\n",
    "import branca\n",
    "\n",
    "p = os.path.join\n",
    "cmap = plt.get_cmap('hot_r')\n",
    "df = pd.read_csv(p('..', 'prediction', 'final_prediction.csv'), index_col=0)"
   ]
  },
  {
   "cell_type": "code",
   "execution_count": 14,
   "metadata": {},
   "outputs": [],
   "source": [
    "for (c, city_df) in df.groupby('city'):\n",
    "    ring = {r for h in city_df.index for r in h3.k_ring(h, 3)}\n",
    "    latlons = [h3.h3_to_geo(r) for r in ring]\n",
    "    lat, lon = np.array(latlons).mean(axis=0)\n",
    "    m = folium.Map(location=[lat, lon])\n",
    "    m.fit_bounds(latlons)\n",
    "    cmap_legend = branca.colormap.LinearColormap([cmap(i/10) for i in range(10)], vmin=city_df['NO2_adjusted'].min(), vmax=city_df['NO2_adjusted'].max())\n",
    "    cmap_legend.caption = 'NO2 Level (ppb)'\n",
    "    cmap_legend.add_to(m)\n",
    "\n",
    "    for r in ring:\n",
    "        try:\n",
    "            level = city_df.loc[r]['NO2_adjusted']\n",
    "        except KeyError:\n",
    "            continue\n",
    "        folium.Polygon(\n",
    "            h3.h3_to_geo_boundary(r),\n",
    "            tooltip=f'{np.round(level, 1)} ppb',\n",
    "            fill_color= rgb2hex(cmap(level/city_df['NO2_adjusted'].max())), \n",
    "            color='black',\n",
    "            fill_opacity= 0.6\n",
    "        ).add_to(m)\n",
    "    m.save(f'maps/{c}.html')"
   ]
  }
 ],
 "metadata": {
  "kernelspec": {
   "display_name": "Python 3",
   "language": "python",
   "name": "python3"
  },
  "language_info": {
   "codemirror_mode": {
    "name": "ipython",
    "version": 3
   },
   "file_extension": ".py",
   "mimetype": "text/x-python",
   "name": "python",
   "nbconvert_exporter": "python",
   "pygments_lexer": "ipython3",
   "version": "3.8.5"
  }
 },
 "nbformat": 4,
 "nbformat_minor": 4
}
