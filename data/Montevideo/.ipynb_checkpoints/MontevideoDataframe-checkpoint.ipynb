{
 "cells": [
  {
   "cell_type": "markdown",
   "metadata": {},
   "source": [
    "# Data for Montevideo\n",
    "\n",
    "CSV data was only available up until 2018: https://catalogodatos.gub.uy/dataset/intendencia-montevideo-red-de-monitoreo-de-la-calidad-del-aire-de-montevideo\n",
    "\n",
    "In the CSVs, however, there was a file named `hn.csv`, which stands for \"Humo Negro\". Would this be Black Carbon?\n",
    "\n",
    "So I went to https://montevideo.gub.uy/areas-tematicas/ambiente/calidad-del-aire/informes-semanales-2019, which provides a weekly report on the data. Yes, I went through the PDFs and copy-pasted the data. \n",
    "\n",
    "The main drawback is that the PDF only provides the maximum, not the average."
   ]
  },
  {
   "cell_type": "code",
   "execution_count": 2,
   "metadata": {},
   "outputs": [],
   "source": [
    "import pandas as pd\n",
    "import h3\n",
    "import matplotlib.pyplot as plt\n",
    "import numpy as np\n",
    "import seaborn as sns\n",
    "\n",
    "base = pd.read_csv('red_base.csv', parse_dates=['Fecha'], dayfirst=True, index_col=\"Fecha\", na_values=\"ND\", dtype=float)\n",
    "orientada = pd.read_csv('red_orientada.csv', parse_dates=['Fecha'], dayfirst=True,  index_col=\"Fecha\", na_values=\"ND\", dtype=float)\n",
    "df = pd.concat([base, orientada], axis=1)"
   ]
  },
  {
   "cell_type": "code",
   "execution_count": 3,
   "metadata": {},
   "outputs": [],
   "source": [
    "df = df[df.index.month == 4]"
   ]
  },
  {
   "cell_type": "code",
   "execution_count": 4,
   "metadata": {},
   "outputs": [],
   "source": [
    "stations_with_more_than_20_days = df.columns[df.count() > 20]"
   ]
  },
  {
   "cell_type": "code",
   "execution_count": 5,
   "metadata": {},
   "outputs": [],
   "source": [
    "df = df[stations_with_more_than_20_days]"
   ]
  },
  {
   "cell_type": "code",
   "execution_count": 6,
   "metadata": {},
   "outputs": [
    {
     "data": {
      "image/png": "[encoded data removed]",
      "text/plain": [
       "<Figure size 1296x216 with 4 Axes>"
      ]
     },
     "metadata": {
      "needs_background": "light"
     },
     "output_type": "display_data"
    }
   ],
   "source": [
    "fig, ax = plt.subplots(ncols=4,figsize=(18,3))\n",
    "\n",
    "for index,i in enumerate(df.columns):\n",
    "    sns.histplot(data=df, x=i,ax=ax[index], bins=20)\n",
    "    mean=df[i].mean()\n",
    "    median=df[i].median()\n",
    "    ax[index].axvline(mean, color='r', linestyle='--')\n",
    "    ax[index].axvline(median, color='g', linestyle='-')"
   ]
  },
  {
   "cell_type": "markdown",
   "metadata": {},
   "source": [
    "Again, close enough"
   ]
  },
  {
   "cell_type": "code",
   "execution_count": 7,
   "metadata": {},
   "outputs": [],
   "source": [
    "station_data = pd.read_csv('aire-estaciones.csv', index_col=\"ESTACION\")"
   ]
  },
  {
   "cell_type": "code",
   "execution_count": 8,
   "metadata": {},
   "outputs": [
    {
     "data": {
      "text/html": [
       "<div>\n",
       "<style scoped>\n",
       "    .dataframe tbody tr th:only-of-type {\n",
       "        vertical-align: middle;\n",
       "    }\n",
       "\n",
       "    .dataframe tbody tr th {\n",
       "        vertical-align: top;\n",
       "    }\n",
       "\n",
       "    .dataframe thead th {\n",
       "        text-align: right;\n",
       "    }\n",
       "</style>\n",
       "<table border=\"1\" class=\"dataframe\">\n",
       "  <thead>\n",
       "    <tr style=\"text-align: right;\">\n",
       "      <th></th>\n",
       "      <th>X</th>\n",
       "      <th>Y</th>\n",
       "      <th>EXPLICACION</th>\n",
       "      <th>Unnamed: 4</th>\n",
       "    </tr>\n",
       "    <tr>\n",
       "      <th>ESTACION</th>\n",
       "      <th></th>\n",
       "      <th></th>\n",
       "      <th></th>\n",
       "      <th></th>\n",
       "    </tr>\n",
       "  </thead>\n",
       "  <tbody>\n",
       "    <tr>\n",
       "      <th>Ciudad Vieja 3</th>\n",
       "      <td>572796</td>\n",
       "      <td>6137122</td>\n",
       "      <td>E1</td>\n",
       "      <td>(Ciudad Vieja)   Academia Uruguay</td>\n",
       "    </tr>\n",
       "    <tr>\n",
       "      <th>Ciudad Vieja 1</th>\n",
       "      <td>572831</td>\n",
       "      <td>6136774</td>\n",
       "      <td>E1</td>\n",
       "      <td>(Ciudad Vieja)   sede AEBU</td>\n",
       "    </tr>\n",
       "    <tr>\n",
       "      <th>Ciudad Vieja 2</th>\n",
       "      <td>572452</td>\n",
       "      <td>6137044</td>\n",
       "      <td>E1</td>\n",
       "      <td>(Ciudad Vieja)   museo Romántico</td>\n",
       "    </tr>\n",
       "    <tr>\n",
       "      <th>Centro</th>\n",
       "      <td>574385</td>\n",
       "      <td>6137072</td>\n",
       "      <td>E2</td>\n",
       "      <td>(Centro)  edificio sede de Intendencia</td>\n",
       "    </tr>\n",
       "    <tr>\n",
       "      <th>Tres Cruces</th>\n",
       "      <td>576888</td>\n",
       "      <td>6138953</td>\n",
       "      <td>E5</td>\n",
       "      <td>(Tres Cruces)  Universidad Católica Dámaso An...</td>\n",
       "    </tr>\n",
       "    <tr>\n",
       "      <th>Tres Cruces 2</th>\n",
       "      <td>576214</td>\n",
       "      <td>6138373</td>\n",
       "      <td>E5</td>\n",
       "      <td>(Tres Cruces)  Shopping Tres Cruces</td>\n",
       "    </tr>\n",
       "    <tr>\n",
       "      <th>Tres Cruces 3</th>\n",
       "      <td>576247</td>\n",
       "      <td>6138473</td>\n",
       "      <td>E5</td>\n",
       "      <td>(Tres Cruces)  Escuela 274 Aquiles Lanza</td>\n",
       "    </tr>\n",
       "    <tr>\n",
       "      <th>Tres Cruces 4</th>\n",
       "      <td>576324</td>\n",
       "      <td>6138361</td>\n",
       "      <td>E5</td>\n",
       "      <td>(Tres Cruces)  Plaza Tres Cruces</td>\n",
       "    </tr>\n",
       "    <tr>\n",
       "      <th>Curva de Maronas</th>\n",
       "      <td>579229</td>\n",
       "      <td>6142255</td>\n",
       "      <td>E6</td>\n",
       "      <td>(Curva de Maroñas)  Edificio Municipio F</td>\n",
       "    </tr>\n",
       "    <tr>\n",
       "      <th>Portones de Carrasco</th>\n",
       "      <td>583940</td>\n",
       "      <td>6139481</td>\n",
       "      <td>E7</td>\n",
       "      <td>(Portones de Carrasco)  Shopping Portones</td>\n",
       "    </tr>\n",
       "    <tr>\n",
       "      <th>Portones de Carrasco 2</th>\n",
       "      <td>583737</td>\n",
       "      <td>6139486</td>\n",
       "      <td>E7</td>\n",
       "      <td>(Portones de Carrasco)  Policlinica Lugo</td>\n",
       "    </tr>\n",
       "    <tr>\n",
       "      <th>La Teja 1</th>\n",
       "      <td>569843</td>\n",
       "      <td>6141519</td>\n",
       "      <td>E3</td>\n",
       "      <td>(La Teja)  Biblioteca Municipal</td>\n",
       "    </tr>\n",
       "    <tr>\n",
       "      <th>La Teja 2</th>\n",
       "      <td>570883</td>\n",
       "      <td>6142541</td>\n",
       "      <td>E3</td>\n",
       "      <td>(La Teja)  Comisaría 19</td>\n",
       "    </tr>\n",
       "    <tr>\n",
       "      <th>Colon</th>\n",
       "      <td>570970</td>\n",
       "      <td>6149046</td>\n",
       "      <td>E8</td>\n",
       "      <td>(Colón)  Laboratorio MTOP</td>\n",
       "    </tr>\n",
       "    <tr>\n",
       "      <th>Colon 1</th>\n",
       "      <td>570997</td>\n",
       "      <td>6148957</td>\n",
       "      <td>E8</td>\n",
       "      <td>(Colón)  Laboratorio MTOP 2</td>\n",
       "    </tr>\n",
       "    <tr>\n",
       "      <th>Colon 2</th>\n",
       "      <td>571002</td>\n",
       "      <td>6149011</td>\n",
       "      <td>E8</td>\n",
       "      <td>(Colón)  Centro Cívico</td>\n",
       "    </tr>\n",
       "    <tr>\n",
       "      <th>Goes</th>\n",
       "      <td>574668</td>\n",
       "      <td>6139720</td>\n",
       "      <td>E9</td>\n",
       "      <td>(Goes)  Comunal Zonal 3</td>\n",
       "    </tr>\n",
       "    <tr>\n",
       "      <th>Prado</th>\n",
       "      <td>573289</td>\n",
       "      <td>6142937</td>\n",
       "      <td>E4</td>\n",
       "      <td>(Prado) Ubicación Museo Blanes</td>\n",
       "    </tr>\n",
       "  </tbody>\n",
       "</table>\n",
       "</div>"
      ],
      "text/plain": [
       "                             X        Y EXPLICACION  \\\n",
       "ESTACION                                              \n",
       "Ciudad Vieja 3          572796  6137122          E1   \n",
       "Ciudad Vieja 1          572831  6136774          E1   \n",
       "Ciudad Vieja 2          572452  6137044          E1   \n",
       "Centro                  574385  6137072          E2   \n",
       "Tres Cruces             576888  6138953          E5   \n",
       "Tres Cruces 2           576214  6138373          E5   \n",
       "Tres Cruces 3           576247  6138473          E5   \n",
       "Tres Cruces 4           576324  6138361          E5   \n",
       "Curva de Maronas        579229  6142255          E6   \n",
       "Portones de Carrasco    583940  6139481          E7   \n",
       "Portones de Carrasco 2  583737  6139486          E7   \n",
       "La Teja 1               569843  6141519          E3   \n",
       "La Teja 2               570883  6142541          E3   \n",
       "Colon                   570970  6149046          E8   \n",
       "Colon 1                 570997  6148957          E8   \n",
       "Colon 2                 571002  6149011          E8   \n",
       "Goes                    574668  6139720          E9   \n",
       "Prado                   573289  6142937          E4   \n",
       "\n",
       "                                                               Unnamed: 4  \n",
       "ESTACION                                                                   \n",
       "Ciudad Vieja 3                          (Ciudad Vieja)   Academia Uruguay  \n",
       "Ciudad Vieja 1                                 (Ciudad Vieja)   sede AEBU  \n",
       "Ciudad Vieja 2                           (Ciudad Vieja)   museo Romántico  \n",
       "Centro                             (Centro)  edificio sede de Intendencia  \n",
       "Tres Cruces              (Tres Cruces)  Universidad Católica Dámaso An...  \n",
       "Tres Cruces 2                         (Tres Cruces)  Shopping Tres Cruces  \n",
       "Tres Cruces 3                    (Tres Cruces)  Escuela 274 Aquiles Lanza  \n",
       "Tres Cruces 4                            (Tres Cruces)  Plaza Tres Cruces  \n",
       "Curva de Maronas                 (Curva de Maroñas)  Edificio Municipio F  \n",
       "Portones de Carrasco            (Portones de Carrasco)  Shopping Portones  \n",
       "Portones de Carrasco 2           (Portones de Carrasco)  Policlinica Lugo  \n",
       "La Teja 1                                 (La Teja)  Biblioteca Municipal  \n",
       "La Teja 2                                         (La Teja)  Comisaría 19  \n",
       "Colon                                           (Colón)  Laboratorio MTOP  \n",
       "Colon 1                                       (Colón)  Laboratorio MTOP 2  \n",
       "Colon 2                                            (Colón)  Centro Cívico  \n",
       "Goes                                              (Goes)  Comunal Zonal 3  \n",
       "Prado                                      (Prado) Ubicación Museo Blanes  "
      ]
     },
     "execution_count": 8,
     "metadata": {},
     "output_type": "execute_result"
    }
   ],
   "source": [
    "station_data"
   ]
  },
  {
   "cell_type": "markdown",
   "metadata": {},
   "source": [
    "There seems to be many stations in the same area.\n",
    "According to `aire-descripcion-campos.csv`, the X and Y are the \"Localizacion de la estacion (UTM- Zona 21)\"\n",
    "\n",
    "However from the stations that have more than 20 days of data, only Curva de Maronas is present. I'll take 'La Tablada', 'Palacio Legislativo', 'Bella Vista' from Google."
   ]
  },
  {
   "cell_type": "markdown",
   "metadata": {},
   "source": [
    "## Converting the lat longs\n",
    "https://ocefpaf.github.io/python4oceanographers/blog/2013/12/16/utm/"
   ]
  },
  {
   "cell_type": "code",
   "execution_count": 11,
   "metadata": {},
   "outputs": [],
   "source": [
    "from pyproj import Proj"
   ]
  },
  {
   "cell_type": "code",
   "execution_count": 12,
   "metadata": {},
   "outputs": [],
   "source": [
    "myProj = Proj(\"+proj=utm +zone=21 +south +ellps=WGS84 +datum=WGS84 +units=m +no_defs\")"
   ]
  },
  {
   "cell_type": "code",
   "execution_count": 13,
   "metadata": {},
   "outputs": [],
   "source": [
    "lon, lat = myProj(station_data['X'].values, station_data['Y'].values, inverse=True)"
   ]
  },
  {
   "cell_type": "code",
   "execution_count": 14,
   "metadata": {},
   "outputs": [],
   "source": [
    "station_data['lat'] = lat\n",
    "station_data['lon'] = lon"
   ]
  },
  {
   "cell_type": "code",
   "execution_count": 15,
   "metadata": {},
   "outputs": [
    {
     "data": {
      "text/plain": [
       "Index(['Curva de Maroñas', 'La Tablada', 'Palacio Legislativo', 'Bella Vista'], dtype='object')"
      ]
     },
     "execution_count": 15,
     "metadata": {},
     "output_type": "execute_result"
    }
   ],
   "source": [
    "stations_with_more_than_20_days"
   ]
  },
  {
   "cell_type": "code",
   "execution_count": 16,
   "metadata": {},
   "outputs": [],
   "source": [
    "stations = pd.DataFrame([\n",
    "    [\"Curva de Maroñas\", station_data.loc['Curva de Maronas'].lat, station_data.loc['Curva de Maronas'].lon],\n",
    "    ['La Tablada',-34.8215517,-56.2426536], \n",
    "    ['Palacio Legislativo', -34.8912001,-56.1888251], \n",
    "    ['Bella Vista',-34.8773524,-56.2056377]\n",
    "], columns=[\"Name\", \"Lat\", \"Lon\"])\n",
    "stations = stations.set_index(\"Name\")"
   ]
  },
  {
   "cell_type": "code",
   "execution_count": 17,
   "metadata": {},
   "outputs": [],
   "source": [
    "stations['h3id'] = stations.apply(lambda row: h3.geo_to_h3(row.Lat, row.Lon, 9), axis=1)"
   ]
  },
  {
   "cell_type": "code",
   "execution_count": 18,
   "metadata": {},
   "outputs": [
    {
     "data": {
      "text/html": [
       "<div>\n",
       "<style scoped>\n",
       "    .dataframe tbody tr th:only-of-type {\n",
       "        vertical-align: middle;\n",
       "    }\n",
       "\n",
       "    .dataframe tbody tr th {\n",
       "        vertical-align: top;\n",
       "    }\n",
       "\n",
       "    .dataframe thead th {\n",
       "        text-align: right;\n",
       "    }\n",
       "</style>\n",
       "<table border=\"1\" class=\"dataframe\">\n",
       "  <thead>\n",
       "    <tr style=\"text-align: right;\">\n",
       "      <th></th>\n",
       "      <th>Lat</th>\n",
       "      <th>Lon</th>\n",
       "      <th>h3id</th>\n",
       "    </tr>\n",
       "    <tr>\n",
       "      <th>Name</th>\n",
       "      <th></th>\n",
       "      <th></th>\n",
       "      <th></th>\n",
       "    </tr>\n",
       "  </thead>\n",
       "  <tbody>\n",
       "    <tr>\n",
       "      <th>Curva de Maroñas</th>\n",
       "      <td>-34.858960</td>\n",
       "      <td>-56.133249</td>\n",
       "      <td>89c2f1571a7ffff</td>\n",
       "    </tr>\n",
       "    <tr>\n",
       "      <th>La Tablada</th>\n",
       "      <td>-34.821552</td>\n",
       "      <td>-56.242654</td>\n",
       "      <td>89c2f119a73ffff</td>\n",
       "    </tr>\n",
       "    <tr>\n",
       "      <th>Palacio Legislativo</th>\n",
       "      <td>-34.891200</td>\n",
       "      <td>-56.188825</td>\n",
       "      <td>89c2f1ccb3bffff</td>\n",
       "    </tr>\n",
       "    <tr>\n",
       "      <th>Bella Vista</th>\n",
       "      <td>-34.877352</td>\n",
       "      <td>-56.205638</td>\n",
       "      <td>89c2f119667ffff</td>\n",
       "    </tr>\n",
       "  </tbody>\n",
       "</table>\n",
       "</div>"
      ],
      "text/plain": [
       "                           Lat        Lon             h3id\n",
       "Name                                                      \n",
       "Curva de Maroñas    -34.858960 -56.133249  89c2f1571a7ffff\n",
       "La Tablada          -34.821552 -56.242654  89c2f119a73ffff\n",
       "Palacio Legislativo -34.891200 -56.188825  89c2f1ccb3bffff\n",
       "Bella Vista         -34.877352 -56.205638  89c2f119667ffff"
      ]
     },
     "execution_count": 18,
     "metadata": {},
     "output_type": "execute_result"
    }
   ],
   "source": [
    "stations"
   ]
  },
  {
   "cell_type": "code",
   "execution_count": 19,
   "metadata": {},
   "outputs": [
    {
     "data": {
      "text/html": [
       "<div>\n",
       "<style scoped>\n",
       "    .dataframe tbody tr th:only-of-type {\n",
       "        vertical-align: middle;\n",
       "    }\n",
       "\n",
       "    .dataframe tbody tr th {\n",
       "        vertical-align: top;\n",
       "    }\n",
       "\n",
       "    .dataframe thead th {\n",
       "        text-align: right;\n",
       "    }\n",
       "</style>\n",
       "<table border=\"1\" class=\"dataframe\">\n",
       "  <thead>\n",
       "    <tr style=\"text-align: right;\">\n",
       "      <th></th>\n",
       "      <th>Lat</th>\n",
       "      <th>Lon</th>\n",
       "      <th>h3id</th>\n",
       "      <th>NO2</th>\n",
       "    </tr>\n",
       "    <tr>\n",
       "      <th>Name</th>\n",
       "      <th></th>\n",
       "      <th></th>\n",
       "      <th></th>\n",
       "      <th></th>\n",
       "    </tr>\n",
       "  </thead>\n",
       "  <tbody>\n",
       "    <tr>\n",
       "      <th>Curva de Maroñas</th>\n",
       "      <td>-34.858960</td>\n",
       "      <td>-56.133249</td>\n",
       "      <td>89c2f1571a7ffff</td>\n",
       "      <td>16.170213</td>\n",
       "    </tr>\n",
       "    <tr>\n",
       "      <th>La Tablada</th>\n",
       "      <td>-34.821552</td>\n",
       "      <td>-56.242654</td>\n",
       "      <td>89c2f119a73ffff</td>\n",
       "      <td>15.574468</td>\n",
       "    </tr>\n",
       "    <tr>\n",
       "      <th>Palacio Legislativo</th>\n",
       "      <td>-34.891200</td>\n",
       "      <td>-56.188825</td>\n",
       "      <td>89c2f1ccb3bffff</td>\n",
       "      <td>25.127660</td>\n",
       "    </tr>\n",
       "    <tr>\n",
       "      <th>Bella Vista</th>\n",
       "      <td>-34.877352</td>\n",
       "      <td>-56.205638</td>\n",
       "      <td>89c2f119667ffff</td>\n",
       "      <td>20.638298</td>\n",
       "    </tr>\n",
       "  </tbody>\n",
       "</table>\n",
       "</div>"
      ],
      "text/plain": [
       "                           Lat        Lon             h3id        NO2\n",
       "Name                                                                 \n",
       "Curva de Maroñas    -34.858960 -56.133249  89c2f1571a7ffff  16.170213\n",
       "La Tablada          -34.821552 -56.242654  89c2f119a73ffff  15.574468\n",
       "Palacio Legislativo -34.891200 -56.188825  89c2f1ccb3bffff  25.127660\n",
       "Bella Vista         -34.877352 -56.205638  89c2f119667ffff  20.638298"
      ]
     },
     "execution_count": 19,
     "metadata": {},
     "output_type": "execute_result"
    }
   ],
   "source": [
    "# convert ug/m3 to ppb\n",
    "# The conversion assumes an ambient pressure of 1 atmosphere and a temperature of 25 degrees Celsius.\n",
    "# https://www2.dmu.dk/atmosphericenvironment/expost/database/docs/ppm_conversion.pdf\n",
    "stations['NO2'] = df.mean()/1.88\n",
    "stations"
   ]
  },
  {
   "cell_type": "code",
   "execution_count": 20,
   "metadata": {},
   "outputs": [],
   "source": [
    "stations.reset_index().drop([\"Name\", \"Lat\", \"Lon\"], axis=1).set_index('h3id').to_csv('montevideo2019.csv')"
   ]
  }
 ],
 "metadata": {
  "kernelspec": {
   "display_name": "Python 3",
   "language": "python",
   "name": "python3"
  },
  "language_info": {
   "codemirror_mode": {
    "name": "ipython",
    "version": 3
   },
   "file_extension": ".py",
   "mimetype": "text/x-python",
   "name": "python",
   "nbconvert_exporter": "python",
   "pygments_lexer": "ipython3",
   "version": "3.7.9"
  }
 },
 "nbformat": 4,
 "nbformat_minor": 4
}
