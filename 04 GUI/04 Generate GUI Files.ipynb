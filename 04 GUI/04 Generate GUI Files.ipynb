{
 "cells": [
  {
   "cell_type": "code",
   "execution_count": 1,
   "metadata": {},
   "outputs": [],
   "source": [
    "import pandas as pd\n",
    "import os\n",
    "import numpy as np\n",
    "import folium\n",
    "import h3\n",
    "import matplotlib.pyplot as plt\n",
    "from matplotlib.colors import rgb2hex\n",
    "import branca\n",
    "\n",
    "p = os.path.join\n",
    "cmap = plt.get_cmap('hot_r')\n",
    "df = pd.read_csv(p('..', '03 Prediction', 'final_prediction.csv'), index_col=0)\n",
    "    \n",
    "if not os.path.exists('www/maps'):\n",
    "    os.mkdir('www/maps')"
   ]
  },
  {
   "cell_type": "code",
   "execution_count": 2,
   "metadata": {},
   "outputs": [],
   "source": [
    "def normalize_name(city_name):\n",
    "    return city_name.lower().replace(' ', '')"
   ]
  },
  {
   "cell_type": "markdown",
   "metadata": {},
   "source": [
    "# Maps"
   ]
  },
  {
   "cell_type": "code",
   "execution_count": 3,
   "metadata": {},
   "outputs": [],
   "source": [
    "for (c, city_df) in df.groupby('city'):\n",
    "    ring = {r for h in city_df.index for r in h3.k_ring(h, 3)}\n",
    "    latlons = [h3.h3_to_geo(r) for r in ring]\n",
    "    lat, lon = np.array(latlons).mean(axis=0)\n",
    "    m = folium.Map(location=[lat, lon])\n",
    "    m.fit_bounds(latlons)\n",
    "    cmap_legend = branca.colormap.LinearColormap([cmap(i/10) for i in range(10)], vmin=city_df['NO2_adjusted'].min(), vmax=city_df['NO2_adjusted'].max())\n",
    "    cmap_legend.caption = 'NO2 Level (ppb)'\n",
    "    cmap_legend.add_to(m)\n",
    "\n",
    "    for r in ring:\n",
    "        try:\n",
    "            level = city_df.loc[r]['NO2_adjusted']\n",
    "        except KeyError:\n",
    "            continue\n",
    "        folium.Polygon(\n",
    "            h3.h3_to_geo_boundary(r),\n",
    "            tooltip=f'{np.round(level, 1)} ppb',\n",
    "            fill_color= rgb2hex(cmap(level/city_df['NO2_adjusted'].max())), \n",
    "            color='black',\n",
    "            fill_opacity= 0.6\n",
    "        ).add_to(m)\n",
    "    m.save(p('www','maps',f'{normalize_name(c)}.html'))"
   ]
  },
  {
   "cell_type": "code",
   "execution_count": 4,
   "metadata": {},
   "outputs": [],
   "source": [
    "cities = [('index', 'All')] + [(normalize_name(c), c) for c in df.city.unique()]"
   ]
  },
  {
   "cell_type": "markdown",
   "metadata": {},
   "source": [
    "# Pages"
   ]
  },
  {
   "cell_type": "code",
   "execution_count": 5,
   "metadata": {},
   "outputs": [],
   "source": [
    "from jinja2 import FileSystemLoader, Environment\n",
    "\n",
    "def render_from_template(directory, template_name, **kwargs):\n",
    "    loader = FileSystemLoader(directory)\n",
    "    env = Environment(loader=loader)\n",
    "    template = env.get_template(template_name)\n",
    "    return template.render(**kwargs)\n",
    "\n",
    "for (c, _) in cities:\n",
    "    with open(p('www', f'{c}.html'), 'w') as f:\n",
    "        f.write(render_from_template('.', 'template.jinja', current=c, cities=cities))"
   ]
  }
 ],
 "metadata": {
  "kernelspec": {
   "display_name": "Python 3",
   "language": "python",
   "name": "python3"
  },
  "language_info": {
   "codemirror_mode": {
    "name": "ipython",
    "version": 3
   },
   "file_extension": ".py",
   "mimetype": "text/x-python",
   "name": "python",
   "nbconvert_exporter": "python",
   "pygments_lexer": "ipython3",
   "version": "3.8.5"
  }
 },
 "nbformat": 4,
 "nbformat_minor": 4
}
