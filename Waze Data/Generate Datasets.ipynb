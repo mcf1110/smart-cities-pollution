{
 "cells": [
  {
   "cell_type": "code",
   "execution_count": 1,
   "metadata": {},
   "outputs": [],
   "source": [
    "from generate_query_many import many_h3_to_query\n",
    "import pandas as pd\n",
    "import os\n",
    "import numpy as np\n",
    "import h3\n",
    "from run_athena import run\n",
    "\n",
    "p = os.path.join\n",
    "if not os.path.exists('chunks'):\n",
    "    os.mkdir('chunks')"
   ]
  },
  {
   "cell_type": "code",
   "execution_count": 2,
   "metadata": {},
   "outputs": [],
   "source": [
    "PATH = p('..','01 Pollution Data')\n",
    "RING_SIZE = 7\n",
    "CHUNK_SIZE = 50"
   ]
  },
  {
   "cell_type": "markdown",
   "metadata": {},
   "source": [
    "# Neighborhood"
   ]
  },
  {
   "cell_type": "markdown",
   "metadata": {},
   "source": [
    "To get neighboring hexagons, we had to divde it in chunks.\n",
    "For each city, we generate a query for chunks of 100 hexagons, due to limitations of the Athena platform. Larger queries (i.e., around 150 hexagons) were getting a query timeout."
   ]
  },
  {
   "cell_type": "code",
   "execution_count": 3,
   "metadata": {},
   "outputs": [],
   "source": [
    "def chunks_of(lst, n):\n",
    "    return (lst[i:i + n] for i in range(0, len(lst), n))"
   ]
  },
  {
   "cell_type": "code",
   "execution_count": 4,
   "metadata": {
    "scrolled": false
   },
   "outputs": [],
   "source": [
    "def make_chunks(city):\n",
    "    file = p(PATH, city, 'y_data.csv')\n",
    "    df = pd.read_csv(file)\n",
    "    ring = list({r for h in df.h3id for r in h3.k_ring(h, RING_SIZE)})\n",
    "    return chunks_of(ring, CHUNK_SIZE)"
   ]
  },
  {
   "cell_type": "code",
   "execution_count": 5,
   "metadata": {},
   "outputs": [],
   "source": [
    "def normalize_name(city_name):\n",
    "    return city_name.lower().replace(' ', '')"
   ]
  },
  {
   "cell_type": "code",
   "execution_count": null,
   "metadata": {},
   "outputs": [
    {
     "name": "stdout",
     "output_type": "stream",
     "text": [
      "Baixando chunks\\lima-00.csv\n",
      "\t 09:30 / 30:00\n",
      "Baixando chunks\\lima-01.csv\n",
      "\t 09:30 / 30:00\n",
      "Baixando chunks\\lima-02.csv\n",
      "\t 11:15 / 30:00\n",
      "Baixando chunks\\lima-03.csv\n",
      "\t 09:30 / 30:00\n",
      "Baixando chunks\\lima-04.csv\n",
      "\t 09:30 / 30:00\n",
      "Baixando chunks\\lima-05.csv\n",
      "\t 10:00 / 30:00\n",
      "Baixando chunks\\lima-06.csv\n",
      "\t 09:30 / 30:00\n",
      "Baixando chunks\\lima-07.csv\n",
      "\t 09:15 / 30:00\n",
      "Baixando chunks\\lima-08.csv\n",
      "\t 10:30 / 30:00\n",
      "Baixando chunks\\lima-09.csv\n",
      "\t 07:30 / 30:00"
     ]
    }
   ],
   "source": [
    "cities = os.listdir(PATH)\n",
    "for city in cities:\n",
    "    chunks = make_chunks(city)\n",
    "    for (i, chunk) in enumerate(chunks):\n",
    "        filename = p('chunks', \"%s-%02d.csv\" % (normalize_name(city), i))\n",
    "        run(many_h3_to_query(chunk), filename)"
   ]
  }
 ],
 "metadata": {
  "kernelspec": {
   "display_name": "Python 3",
   "language": "python",
   "name": "python3"
  },
  "language_info": {
   "codemirror_mode": {
    "name": "ipython",
    "version": 3
   },
   "file_extension": ".py",
   "mimetype": "text/x-python",
   "name": "python",
   "nbconvert_exporter": "python",
   "pygments_lexer": "ipython3",
   "version": "3.8.5"
  }
 },
 "nbformat": 4,
 "nbformat_minor": 4
}
