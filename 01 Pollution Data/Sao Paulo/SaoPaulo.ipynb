{
 "cells": [
  {
   "cell_type": "code",
   "execution_count": 1,
   "metadata": {},
   "outputs": [],
   "source": [
    "import h3\n",
    "import pandas as pd\n",
    "import seaborn as sns\n",
    "import matplotlib.pyplot as plt"
   ]
  },
  {
   "cell_type": "code",
   "execution_count": 2,
   "metadata": {},
   "outputs": [],
   "source": [
    "df=pd.read_csv('dadosSP.csv',delimiter=';')\n",
    "dfCoordenates=pd.read_csv('coordenadas.csv',delimiter=';')\n",
    "dfCoordenates['Station']=df.Station.unique()"
   ]
  },
  {
   "cell_type": "code",
   "execution_count": 3,
   "metadata": {},
   "outputs": [],
   "source": [
    "dfCoordenates.set_index('Station',inplace=True)\n",
    "dfCoordenates['h3id'] = dfCoordenates.apply(lambda row: h3.geo_to_h3(row.Latitude, row.Longitude, 9), axis=1)\n",
    "\n",
    "h3dict = dfCoordenates.h3id.to_dict()"
   ]
  },
  {
   "cell_type": "code",
   "execution_count": 4,
   "metadata": {},
   "outputs": [],
   "source": [
    "# join date and hour in dataframe df\n",
    "df['Date']=pd.to_datetime(df.Date) + pd.to_timedelta(df.Hour)\n",
    "df.drop(columns=['Hour'],inplace=True)\n",
    "\n",
    "# convert other columns to numeric\n",
    "df[df.columns[2:]] = df[df.columns[2:]].apply(pd.to_numeric, errors='coerce', axis=1)"
   ]
  },
  {
   "cell_type": "markdown",
   "metadata": {},
   "source": [
    "### April 2019"
   ]
  },
  {
   "cell_type": "code",
   "execution_count": 5,
   "metadata": {},
   "outputs": [],
   "source": [
    "# April 2019\n",
    "i = pd.date_range('2019-04-01 00:00:00', periods=31, freq='24H')\n",
    "dfTemp=df.loc[(df.Date >= i[0]) & (df.Date <= i[-1])].copy()\n",
    "# indexes for 2019-05-01\n",
    "temp=dfTemp.loc[dfTemp['Date']==pd.date_range('2019-05-01 00:00:00', periods=1, freq='24H')[0]].index\n",
    "# Remove 2019-05-01\n",
    "dfTemp.drop(temp,inplace=True)\n",
    "# Reset index\n",
    "dfTemp.reset_index(inplace=True,drop=True)"
   ]
  },
  {
   "cell_type": "code",
   "execution_count": 6,
   "metadata": {},
   "outputs": [],
   "source": [
    "dfTemp['h3id'] = dfTemp.Station.apply(lambda s: h3dict[s])\n",
    "dfTemp['NO2']=dfTemp['NO2']/1.88\n",
    "dfTemp['NO']=dfTemp['NO']/1.25\n",
    "dfTemp['time'] = pd.to_datetime(dfTemp.Date)"
   ]
  },
  {
   "cell_type": "code",
   "execution_count": 10,
   "metadata": {},
   "outputs": [],
   "source": [
    "dfTemp[['h3id', 'time', 'NO2', 'NO']].to_csv('y_data.csv', index=False)"
   ]
  }
 ],
 "metadata": {
  "kernelspec": {
   "display_name": "Python 3",
   "language": "python",
   "name": "python3"
  },
  "language_info": {
   "codemirror_mode": {
    "name": "ipython",
    "version": 3
   },
   "file_extension": ".py",
   "mimetype": "text/x-python",
   "name": "python",
   "nbconvert_exporter": "python",
   "pygments_lexer": "ipython3",
   "version": "3.8.5"
  }
 },
 "nbformat": 4,
 "nbformat_minor": 5
}
