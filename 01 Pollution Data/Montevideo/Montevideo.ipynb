{
 "cells": [
  {
   "cell_type": "markdown",
   "metadata": {},
   "source": [
    "# Data for Montevideo\n",
    "\n",
    "CSV data was only available up until 2018: https://catalogodatos.gub.uy/dataset/intendencia-montevideo-red-de-monitoreo-de-la-calidad-del-aire-de-montevideo\n",
    "\n",
    "In the CSVs, however, there was a file named `hn.csv`, which stands for \"Humo Negro\". Would this be Black Carbon?\n",
    "\n",
    "So I went to https://montevideo.gub.uy/areas-tematicas/ambiente/calidad-del-aire/informes-semanales-2019, which provides a weekly report on the data. Yes, I went through the PDFs and copy-pasted the data. \n",
    "\n",
    "The main drawback is that the PDF only provides the maximum, not the average."
   ]
  },
  {
   "cell_type": "code",
   "execution_count": 1,
   "metadata": {},
   "outputs": [],
   "source": [
    "import pandas as pd\n",
    "import h3\n",
    "import matplotlib.pyplot as plt\n",
    "import numpy as np\n",
    "import seaborn as sns\n",
    "\n",
    "base = pd.read_csv('red_base.csv', parse_dates=['Fecha'], dayfirst=True, index_col=\"Fecha\", na_values=\"ND\", dtype=float)\n",
    "orientada = pd.read_csv('red_orientada.csv', parse_dates=['Fecha'], dayfirst=True,  index_col=\"Fecha\", na_values=\"ND\", dtype=float)\n",
    "df = pd.concat([base, orientada], axis=1)"
   ]
  },
  {
   "cell_type": "code",
   "execution_count": 2,
   "metadata": {},
   "outputs": [],
   "source": [
    "df = df[df.index.month == 4]\n",
    "stations_with_more_than_20_days = df.columns[df.count() > 20]\n",
    "df = df[stations_with_more_than_20_days]\n",
    "station_data = pd.read_csv('aire-estaciones.csv', index_col=\"ESTACION\")"
   ]
  },
  {
   "cell_type": "markdown",
   "metadata": {},
   "source": [
    "There seems to be many stations in the same area.\n",
    "According to `aire-descripcion-campos.csv`, the X and Y are the \"Localizacion de la estacion (UTM- Zona 21)\"\n",
    "\n",
    "However from the stations that have more than 20 days of data, only Curva de Maronas is present. I'll take 'La Tablada', 'Palacio Legislativo', 'Bella Vista' from Google."
   ]
  },
  {
   "cell_type": "markdown",
   "metadata": {},
   "source": [
    "## Converting the lat longs\n",
    "https://ocefpaf.github.io/python4oceanographers/blog/2013/12/16/utm/"
   ]
  },
  {
   "cell_type": "code",
   "execution_count": 3,
   "metadata": {},
   "outputs": [],
   "source": [
    "from pyproj import Proj\n",
    "myProj = Proj(\"+proj=utm +zone=21 +south +ellps=WGS84 +datum=WGS84 +units=m +no_defs\")\n",
    "lon, lat = myProj(station_data['X'].values, station_data['Y'].values, inverse=True)\n",
    "station_data['lat'] = lat\n",
    "station_data['lon'] = lon"
   ]
  },
  {
   "cell_type": "code",
   "execution_count": 4,
   "metadata": {},
   "outputs": [],
   "source": [
    "stations = pd.DataFrame([\n",
    "    [\"Curva de Maroñas\", station_data.loc['Curva de Maronas'].lat, station_data.loc['Curva de Maronas'].lon],\n",
    "    ['La Tablada',-34.8215517,-56.2426536], \n",
    "    ['Palacio Legislativo', -34.8912001,-56.1888251], \n",
    "    ['Bella Vista',-34.8773524,-56.2056377]\n",
    "], columns=[\"Name\", \"Lat\", \"Lon\"])\n",
    "stations = stations.set_index(\"Name\")\n",
    "stations['h3id'] = stations.apply(lambda row: h3.geo_to_h3(row.Lat, row.Lon, 9), axis=1)\n",
    "h3dict = stations.h3id.to_dict()"
   ]
  },
  {
   "cell_type": "code",
   "execution_count": 10,
   "metadata": {},
   "outputs": [],
   "source": [
    "finaldf = df.reset_index().melt(id_vars='Fecha')\n",
    "finaldf['h3id'] = finaldf.variable.apply(lambda s: h3dict[s])\n",
    "# convert ug/m3 to ppb\n",
    "# The conversion assumes an ambient pressure of 1 atmosphere and a temperature of 25 degrees Celsius.\n",
    "# https://www2.dmu.dk/atmosphericenvironment/expost/database/docs/ppm_conversion.pdf\n",
    "finaldf['NO2'] = finaldf.value/1.88\n",
    "finaldf['time'] = pd.to_datetime(finaldf.Fecha)"
   ]
  },
  {
   "cell_type": "code",
   "execution_count": 11,
   "metadata": {},
   "outputs": [],
   "source": [
    "finaldf[['h3id', 'time', 'NO2']].to_csv('y_data.csv', index=False)"
   ]
  }
 ],
 "metadata": {
  "kernelspec": {
   "display_name": "Python 3",
   "language": "python",
   "name": "python3"
  },
  "language_info": {
   "codemirror_mode": {
    "name": "ipython",
    "version": 3
   },
   "file_extension": ".py",
   "mimetype": "text/x-python",
   "name": "python",
   "nbconvert_exporter": "python",
   "pygments_lexer": "ipython3",
   "version": "3.8.5"
  }
 },
 "nbformat": 4,
 "nbformat_minor": 4
}
