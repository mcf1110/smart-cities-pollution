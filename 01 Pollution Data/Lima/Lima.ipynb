{
 "cells": [
  {
   "cell_type": "markdown",
   "metadata": {},
   "source": [
    "Source: https://www.senamhi.gob.pe/?p=calidad_del_aire-estadistica&e=112265"
   ]
  },
  {
   "cell_type": "code",
   "execution_count": 17,
   "metadata": {},
   "outputs": [],
   "source": [
    "import requests\n",
    "from bs4 import BeautifulSoup\n",
    "import re\n",
    "import numpy as np\n",
    "import pandas as pd\n",
    "import matplotlib.pyplot as plt\n",
    "import h3\n",
    "\n",
    "null = np.nan"
   ]
  },
  {
   "cell_type": "code",
   "execution_count": 49,
   "metadata": {},
   "outputs": [],
   "source": [
    "def parse_time(string):\n",
    "    return pd.to_datetime([d.replace(\"'\", '') for d in string.split(',')[:-1]], format=\"%d/%m/%Y%H:%M:\")"
   ]
  },
  {
   "cell_type": "code",
   "execution_count": 50,
   "metadata": {},
   "outputs": [],
   "source": [
    "def get_data(station_id):\n",
    "    url = f'https://www.senamhi.gob.pe/site/sea/www/site/sea/graficas/dato_hora.php?estacion={station_id}&cont=N_NO2&f1=01/04/2019&f2=30/04/2019'\n",
    "    resp = requests.get(url)\n",
    "    script = BeautifulSoup(resp.text, 'html.parser').body.select('script[type=\"text/javascript\"]')[0].string\n",
    "    title = re.match(\"'(.+)'\", script.split('text: ')[1])[1].split(': ')[1]\n",
    "    vals = re.match(\"\\[(.+)\\]\", script.split('data: ')[-1])[1]\n",
    "    timestamps = re.match(\"\\[(.+)\\]\", script.split('categories: ')[-1])[1]\n",
    "    return (title, np.array(eval(vals)), parse_time(timestamps))"
   ]
  },
  {
   "cell_type": "code",
   "execution_count": 19,
   "metadata": {},
   "outputs": [],
   "source": [
    "def convert(s):\n",
    "    deg, m, s, d = [a+b for a,b in re.findall(r\"(\\d+\\.\\d+)|(\\w+)\", s)]\n",
    "    return -(float(deg) + float(m)/60 + float(s)/60**2)"
   ]
  },
  {
   "cell_type": "code",
   "execution_count": 20,
   "metadata": {},
   "outputs": [],
   "source": [
    "coords = {\n",
    "    'CARABAYLLO (CRB) - Lima Norte' : (-11.901921, -77.0357845),\n",
    "    'ATE (ATE) - Lima Este' : (-12.026121,-76.9192707),\n",
    "    'SAN BORJA (SBJ) - Lima Centro' : ('12°6′31.94″ S', '77°0′27.68″ W'),\n",
    "    'CAMPO DE MARTE (CDM) - Lima Centro' : ('12°4′13.96″ S', '77°2′35.57″ W'),\n",
    "    'SANTA ANITA (STA) - Lima Este' : ('12°2′34.88″ S', '76°58′17.2″ W'),\n",
    "    'SAN MARTIN DE PORRES (SMP) - ' : ('12°0′32″ S','77°5′4.1″ W'),\n",
    "    'HUACHIPA (HCH) - Lima Este' : (-12.0173213,-76.9510424),\n",
    "    'SAN JUAN DE LURIGANCHO (SJL) - Lima Este' : ('11°58′53.89″ S','76°59′57.29″ W'),\n",
    "}\n",
    "for k,(lat, long) in coords.items():\n",
    "    if(isinstance(lat, str)):\n",
    "        lat, long = convert(lat), convert(long)\n",
    "    coords[k] = h3.geo_to_h3(lat, long, 9)"
   ]
  },
  {
   "cell_type": "code",
   "execution_count": 51,
   "metadata": {},
   "outputs": [],
   "source": [
    "stations = [111286, 111287, 112192, 112193, 112194, 112208, 112233, 112265, 112266, 112267]\n",
    "data = [get_data(s) for s in stations]"
   ]
  },
  {
   "cell_type": "code",
   "execution_count": 67,
   "metadata": {},
   "outputs": [],
   "source": [
    "df = pd.DataFrame(\n",
    "    [(coords[station], t, d) for (station, no2, timestamps) in data if station in coords for (d, t) in zip(no2, timestamps)],\n",
    "    columns=['h3id', 'time', 'NO2']\n",
    ")\n",
    "# convert ug/m3 to ppb\n",
    "# The conversion assumes an ambient pressure of 1 atmosphere and a temperature of 25 degrees Celsius.\n",
    "# https://www2.dmu.dk/atmosphericenvironment/expost/database/docs/ppm_conversion.pdf\n",
    "df['NO2'] = df['NO2']/1.88\n",
    "df.to_csv('y_data.csv', index=False)"
   ]
  }
 ],
 "metadata": {
  "kernelspec": {
   "display_name": "Python 3",
   "language": "python",
   "name": "python3"
  },
  "language_info": {
   "codemirror_mode": {
    "name": "ipython",
    "version": 3
   },
   "file_extension": ".py",
   "mimetype": "text/x-python",
   "name": "python",
   "nbconvert_exporter": "python",
   "pygments_lexer": "ipython3",
   "version": "3.8.5"
  }
 },
 "nbformat": 4,
 "nbformat_minor": 4
}
