{
 "cells": [
  {
   "cell_type": "markdown",
   "id": "fc163edd",
   "metadata": {},
   "source": [
    "# Getting data for Quito"
   ]
  },
  {
   "cell_type": "markdown",
   "id": "93a657c5",
   "metadata": {},
   "source": [
    "For this case, data was collected manually\n",
    "\n",
    "Source: http://www.quitoambiente.gob.ec/ambiente/index.php/descarga-datos-historicos"
   ]
  },
  {
   "cell_type": "code",
   "execution_count": 9,
   "id": "6810e5ba",
   "metadata": {},
   "outputs": [],
   "source": [
    "# libraries\n",
    "import h3\n",
    "import pandas as pd\n",
    "import seaborn as sns\n",
    "import matplotlib.pyplot as plt\n",
    "import warnings\n",
    "warnings.filterwarnings(\"ignore\")"
   ]
  },
  {
   "cell_type": "code",
   "execution_count": 10,
   "id": "72326bec",
   "metadata": {},
   "outputs": [],
   "source": [
    "# read excel file with NO2 level\n",
    "df=pd.read_excel('NO2.xlsx')\n",
    "# read csv file with coordinates\n",
    "dfCoordenates=pd.read_csv('coordenadas.csv',delimiter=';')"
   ]
  },
  {
   "cell_type": "code",
   "execution_count": 11,
   "id": "ffbdc8e2",
   "metadata": {},
   "outputs": [],
   "source": [
    "dfCoordenates['Station'] = dfCoordenates['Station'].str.upper()\n",
    "dfCoordenates.set_index('Station',inplace=True)\n",
    "# drop some stations without data\n",
    "dfCoordenates.drop(['TUMBACO', 'JIPIJAPA'],inplace=True)\n",
    "dfCoordenates.index.name = None\n",
    "# get h3id for each station\n",
    "dfCoordenates['h3id'] = dfCoordenates.apply(lambda row: h3.geo_to_h3(row.Latitude, row.Longitude, 9), axis=1)\n",
    "\n",
    "h3dict = dfCoordenates.h3id.to_dict()"
   ]
  },
  {
   "cell_type": "code",
   "execution_count": 12,
   "id": "956badf5",
   "metadata": {},
   "outputs": [],
   "source": [
    "# remove first row\n",
    "df.drop([0],inplace=True)\n",
    "\n",
    "# Rename column unnamed\n",
    "df.rename(columns={df.columns[0] :'Date'}, inplace=True )\n",
    "\n",
    "# convert the 'Date' column to datetime format\n",
    "df['Date']= pd.to_datetime(df['Date'])\n",
    "\n",
    "# convert other columns to numeric\n",
    "df[df.columns[1:]] = df[df.columns[1:]].apply(pd.to_numeric, errors='coerce', axis=1)"
   ]
  },
  {
   "cell_type": "markdown",
   "id": "f8bd46fc",
   "metadata": {},
   "source": [
    "### For all cases analyzed data is for April 2019"
   ]
  },
  {
   "cell_type": "code",
   "execution_count": 13,
   "id": "e74f26f1",
   "metadata": {},
   "outputs": [],
   "source": [
    "# April 2019\n",
    "i = pd.date_range('2019-04-01 00:00:00', periods=31, freq='24H')\n",
    "dfApril2019=df.loc[(df.Date >= i[0]) & (df.Date <= i[-1])]\n",
    "# Drop last row (1/5/2019)\n",
    "dfApril2019.drop([134377],inplace=True)\n",
    "# Drop TUMBACO, CONDADO, TURUBAMBA E CHILLOGALLO (empty ones)\n",
    "dfApril2019.drop(columns=['TUMBACO', 'CONDADO', 'TURUBAMBA' ,'CHILLOGALLO'],inplace=True)"
   ]
  },
  {
   "cell_type": "code",
   "execution_count": 14,
   "id": "6e252300",
   "metadata": {},
   "outputs": [],
   "source": [
    "df = dfApril2019.melt(id_vars='Date')\n",
    "df['h3id'] = df.variable.apply(lambda s: h3dict[s])\n",
    "# convert ug/m3 to ppb\n",
    "# The conversion assumes an ambient pressure of 1 atmosphere and a temperature of 25 degrees Celsius.\n",
    "# https://www2.dmu.dk/atmosphericenvironment/expost/database/docs/ppm_conversion.pdf\n",
    "df['NO2']=df['value']/1.88\n",
    "df['time'] = pd.to_datetime(df.Date)\n",
    "# save csv with data\n",
    "df[['h3id', 'time', 'NO2']].to_csv('y_data.csv', index=False)"
   ]
  }
 ],
 "metadata": {
  "kernelspec": {
   "display_name": "Python 3",
   "language": "python",
   "name": "python3"
  },
  "language_info": {
   "codemirror_mode": {
    "name": "ipython",
    "version": 3
   },
   "file_extension": ".py",
   "mimetype": "text/x-python",
   "name": "python",
   "nbconvert_exporter": "python",
   "pygments_lexer": "ipython3",
   "version": "3.7.9"
  }
 },
 "nbformat": 4,
 "nbformat_minor": 5
}
