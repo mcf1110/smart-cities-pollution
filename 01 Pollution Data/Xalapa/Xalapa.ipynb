{
 "cells": [
  {
   "cell_type": "markdown",
   "metadata": {},
   "source": [
    "# Data for Xalapa\n",
    "\n",
    "- Source: `http://sinaica.inecc.gob.mx/`\n",
    "- Station: STPS (STP)\n",
    "- Coords: 19.53 N, 96.88 O"
   ]
  },
  {
   "cell_type": "code",
   "execution_count": 1,
   "metadata": {},
   "outputs": [],
   "source": [
    "import pandas as pd\n",
    "import h3\n",
    "import matplotlib.pyplot as plt\n",
    "\n",
    "lat, long = (19.53, -96.88)\n",
    "no = pd.read_csv('no.csv', parse_dates=['Fecha'])\n",
    "no2 = pd.read_csv('no2.csv', parse_dates=['Fecha'])"
   ]
  },
  {
   "cell_type": "code",
   "execution_count": 2,
   "metadata": {},
   "outputs": [],
   "source": [
    "def process(df):\n",
    "    return df[df.Fecha.dt.month == 4].Valor*1000 # ppm to ppb"
   ]
  },
  {
   "cell_type": "code",
   "execution_count": 10,
   "metadata": {},
   "outputs": [
    {
     "data": {
      "text/plain": [
       "0     2019-04-01\n",
       "1     2019-04-01\n",
       "2     2019-04-01\n",
       "3     2019-04-01\n",
       "4     2019-04-01\n",
       "         ...    \n",
       "739   2019-05-01\n",
       "740   2019-05-01\n",
       "741   2019-05-01\n",
       "742   2019-05-01\n",
       "743   2019-05-01\n",
       "Name: Fecha, Length: 744, dtype: datetime64[ns]"
      ]
     },
     "execution_count": 10,
     "metadata": {},
     "output_type": "execute_result"
    }
   ],
   "source": [
    "no.Fecha"
   ]
  },
  {
   "cell_type": "code",
   "execution_count": 26,
   "metadata": {},
   "outputs": [
    {
     "name": "stderr",
     "output_type": "stream",
     "text": [
      "C:\\Users\\USER\\anaconda3\\lib\\site-packages\\pandas\\core\\arrays\\datetimelike.py:1342: PerformanceWarning: Adding/subtracting object-dtype array to DatetimeArray not vectorized\n",
      "  warnings.warn(\n"
     ]
    }
   ],
   "source": [
    "h3id = h3.geo_to_h3(lat, long, 9)\n",
    "offsets = no.Hora.str.split(' - ').apply(lambda x: pd.DateOffset(hours=int(x[1].split(':')[0])))\n",
    "\n",
    "final_df = pd.DataFrame()\n",
    "final_df['time'] = pd.to_datetime(no.Fecha) + offsets\n",
    "final_df['NO'] = process(no)\n",
    "final_df['NO2'] = process(no2)\n",
    "final_df['h3id'] = h3id\n",
    "final_df[['h3id', 'time', 'NO2', 'NO']].loc[final_df['time'].dt.month == 4].to_csv('y_data.csv', index=False)"
   ]
  }
 ],
 "metadata": {
  "kernelspec": {
   "display_name": "Python 3",
   "language": "python",
   "name": "python3"
  },
  "language_info": {
   "codemirror_mode": {
    "name": "ipython",
    "version": 3
   },
   "file_extension": ".py",
   "mimetype": "text/x-python",
   "name": "python",
   "nbconvert_exporter": "python",
   "pygments_lexer": "ipython3",
   "version": "3.8.5"
  }
 },
 "nbformat": 4,
 "nbformat_minor": 4
}
